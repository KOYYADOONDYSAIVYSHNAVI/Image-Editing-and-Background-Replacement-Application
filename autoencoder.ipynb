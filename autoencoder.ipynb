{
  "nbformat": 4,
  "nbformat_minor": 0,
  "metadata": {
    "colab": {
      "provenance": []
    },
    "kernelspec": {
      "name": "python3",
      "display_name": "Python 3"
    },
    "language_info": {
      "name": "python"
    }
  },
  "cells": [
    {
      "cell_type": "code",
      "execution_count": null,
      "metadata": {
        "id": "hU75Eo38u_8P"
      },
      "outputs": [],
      "source": [
        "import torch\n",
        "import torch.nn as nn\n",
        "import torch.optim as optim\n",
        "import numpy as np"
      ]
    },
    {
      "cell_type": "code",
      "source": [
        "class Autoencoder(nn.Module):\n",
        "    def __init__(self):\n",
        "        super(Autoencoder, self).__init__()\n",
        "        self.encoder = nn.Sequential(\n",
        "            nn.Conv2d(1, 32, 3, stride=2, padding=1),\n",
        "            nn.ReLU(),\n",
        "            nn.Conv2d(32, 64, 3, stride=2, padding=1),\n",
        "            nn.ReLU(),\n",
        "            nn.Conv2d(64, 128, 3, stride=2, padding=1),\n",
        "            nn.ReLU()\n",
        "        )\n",
        "        self.decoder = nn.Sequential(\n",
        "            nn.ConvTranspose2d(128, 64, 3, stride=2, padding=1, output_padding=1),\n",
        "            nn.ReLU(),\n",
        "            nn.ConvTranspose2d(64, 32, 3, stride=2, padding=1, output_padding=1),\n",
        "            nn.ReLU(),\n",
        "            nn.ConvTranspose2d(32, 1, 3, stride=2, padding=1, output_padding=1),\n",
        "            nn.Sigmoid()\n",
        "        )\n",
        "\n",
        "    def forward(self, x):\n",
        "        x = self.encoder(x)\n",
        "        x = self.decoder(x)\n",
        "        return x"
      ],
      "metadata": {
        "id": "QTDj3uqmArge"
      },
      "execution_count": null,
      "outputs": []
    },
    {
      "cell_type": "code",
      "source": [
        "def load_dataset(size=1000, img_size=64):\n",
        "    return torch.rand(size, 1, img_size, img_size)\n",
        "\n",
        "# Initialize Model\n",
        "autoencoder = Autoencoder()\n",
        "criterion = nn.MSELoss()\n",
        "optimizer = optim.Adam(autoencoder.parameters(), lr=0.001)"
      ],
      "metadata": {
        "id": "uhY5J8JxAyCT"
      },
      "execution_count": null,
      "outputs": []
    },
    {
      "cell_type": "code",
      "source": [
        "# Training Loop\n",
        "dataset = load_dataset()\n",
        "for epoch in range(10):  # Adjust epochs\n",
        "    for mask in dataset:\n",
        "        mask = mask.unsqueeze(0)  # Add batch dim\n",
        "        optimizer.zero_grad()\n",
        "        output = autoencoder(mask)\n",
        "        loss = criterion(output, mask)\n",
        "        loss.backward()\n",
        "        optimizer.step()\n",
        "    print(f\"Epoch {epoch+1}, Loss: {loss.item()}\")"
      ],
      "metadata": {
        "colab": {
          "base_uri": "https://localhost:8080/"
        },
        "id": "h0ee07GYA0zQ",
        "outputId": "05ec742b-4cde-41ba-84d1-77c93ac71edd"
      },
      "execution_count": null,
      "outputs": [
        {
          "output_type": "stream",
          "name": "stdout",
          "text": [
            "Epoch 1, Loss: 0.02222689613699913\n",
            "Epoch 2, Loss: 0.008122820407152176\n",
            "Epoch 3, Loss: 0.004941563121974468\n",
            "Epoch 4, Loss: 0.004482269752770662\n",
            "Epoch 5, Loss: 0.004120636731386185\n",
            "Epoch 6, Loss: 0.0038391121197491884\n",
            "Epoch 7, Loss: 0.003607973223552108\n",
            "Epoch 8, Loss: 0.003460207022726536\n",
            "Epoch 9, Loss: 0.0032510387245565653\n",
            "Epoch 10, Loss: 0.0030844402499496937\n"
          ]
        }
      ]
    },
    {
      "cell_type": "code",
      "source": [
        "# Save Model\n",
        "torch.save(autoencoder.state_dict(), \"autoencoder.pth\")\n",
        "print(\"Autoencoder model saved as autoencoder.pth\")"
      ],
      "metadata": {
        "colab": {
          "base_uri": "https://localhost:8080/"
        },
        "id": "n9vqtiQxA2-0",
        "outputId": "38ce52f0-7225-4cae-d797-687c663f7a44"
      },
      "execution_count": null,
      "outputs": [
        {
          "output_type": "stream",
          "name": "stdout",
          "text": [
            "Autoencoder model saved as autoencoder.pth\n"
          ]
        }
      ]
    }
  ]
}